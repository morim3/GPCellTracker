{
 "cells": [
  {
   "cell_type": "code",
   "execution_count": 1,
   "metadata": {
    "collapsed": true
   },
   "outputs": [],
   "source": [
    "%load_ext autoreload\n",
    "%autoreload 2\n",
    "\n",
    "import tifffile\n",
    "import numpy as np\n",
    "import os\n",
    "import matplotlib.pyplot as plt\n",
    "import matplotlib.patches as patches\n",
    "import math\n",
    "import yaml\n",
    "from attrdict import AttrDict\n",
    "from models.tracker import Tracker\n",
    "from tools.datasets import CellDataSet\n",
    "\n"
   ]
  },
  {
   "cell_type": "code",
   "execution_count": 2,
   "outputs": [],
   "source": [
    "def get_cells(image):\n",
    "    cell_num = image.max()\n",
    "    masks = [np.empty([0, 2]) for i in range(cell_num)]\n",
    "\n",
    "    for i in range(image.shape[0]):\n",
    "        for j in range(image.shape[1]):\n",
    "            cell_id = image[i][j]\n",
    "            if cell_id != 0:\n",
    "                masks[cell_id-1] = np.append(masks[cell_id-1], np.array([[i, j]]), axis=0)\n",
    "\n",
    "    i = 0\n",
    "    while i < len(masks):\n",
    "        if len(masks[i]) < 3:\n",
    "            del masks[i]\n",
    "        else:\n",
    "            i += 1\n",
    "\n",
    "    cell_num = len(masks)\n",
    "\n",
    "    mean = np.array([masks[i].mean(axis=0) for i in range(cell_num)])\n",
    "    cov = np.array([np.cov(masks[i][:, 0], masks[i][:, 1]) for i in range(cell_num)])\n",
    "    cell_scales = np.array([1.5*math.sqrt(np.linalg.eig(c)[0].max()) for c in cov])\n",
    "    return mean, cell_scales\n",
    "\n",
    "\n",
    "def load_segmented_data(data_path, data_type=np.uint16):\n",
    "    means = []\n",
    "    scales =[]\n",
    "    images = []\n",
    "    for path in data_path:\n",
    "        image = tifffile.imread(path).astype(data_type)\n",
    "        mean, scale = get_cells(image)\n",
    "        images.append(image)\n",
    "        means.append(mean)\n",
    "        scales.append(scale)\n",
    "\n",
    "    return means, scales, images"
   ],
   "metadata": {
    "collapsed": false,
    "pycharm": {
     "name": "#%%\n"
    }
   }
  },
  {
   "cell_type": "code",
   "execution_count": 3,
   "outputs": [],
   "source": [
    "data_root = \"C://Users/morim/Desktop/track_test_data/Fluo-N2DH-SIM+_train/Fluo-N2DH-SIM+/01_GT/SEG\"\n",
    "data_names = [f\"man_seg0{i:02}.tif\" for i in range(65)]\n",
    "\n",
    "data_path = [os.path.join(data_root, name) for name in data_names]\n",
    "\n",
    "means, scales, images = load_segmented_data(data_path)"
   ],
   "metadata": {
    "collapsed": false,
    "pycharm": {
     "name": "#%%\n"
    }
   }
  },
  {
   "cell_type": "code",
   "execution_count": 4,
   "outputs": [
    {
     "name": "stdout",
     "output_type": "stream",
     "text": [
      "21.304839214258386\n",
      "21.467453637183787\n",
      "26.262450950836048\n",
      "23.291920835893606\n",
      "22.14571653375237\n",
      "24.287942255957894\n",
      "21.796681119820576\n",
      "21.02740204249119\n",
      "21.39230692422851\n",
      "23.591457124468015\n",
      "24.284051258771964\n",
      "23.800850459057425\n",
      "21.760697912301712\n",
      "20.838682965891856\n",
      "22.992077368769905\n",
      "21.05184036044146\n",
      "22.364846271748142\n",
      "24.02662004848545\n",
      "26.1259453840517\n",
      "23.119316376908735\n",
      "23.468282163258273\n",
      "22.76341124335795\n",
      "24.986517173596937\n",
      "23.560334772468224\n",
      "20.048583654126823\n",
      "20.785486408035855\n",
      "24.999163860137582\n",
      "24.371973581381088\n",
      "20.850931591033234\n",
      "24.900649427961735\n"
     ]
    },
    {
     "data": {
      "text/plain": "<Figure size 432x288 with 1 Axes>",
      "image/png": "[encoded data removed]"
     },
     "metadata": {
      "needs_background": "light"
     },
     "output_type": "display_data"
    }
   ],
   "source": [
    "\n",
    "fig, ax = plt.subplots()\n",
    "ax.imshow(images[2])\n",
    "ax.scatter(means[2][:, 1], means[2][:, 0], s=2)\n",
    "ax.set_aspect(1)\n",
    "for s, m in zip(scales[2], means[2]):\n",
    "    print(s)\n",
    "    circle = patches.Circle((m[1], m[0]), s, fill=False)\n",
    "    ax.add_patch(circle)\n",
    "\n"
   ],
   "metadata": {
    "collapsed": false,
    "pycharm": {
     "name": "#%%\n"
    }
   }
  },
  {
   "cell_type": "code",
   "execution_count": 5,
   "outputs": [],
   "source": [
    "mean_max = max([m.max() for m in means])\n",
    "mean_min = max([m.min() for m in means])\n",
    "scales = [s / (mean_max - mean_min) for s in scales]\n",
    "means = [(m - mean_min)/(mean_max - mean_min) for m in means]"
   ],
   "metadata": {
    "collapsed": false,
    "pycharm": {
     "name": "#%%\n"
    }
   }
  },
  {
   "cell_type": "code",
   "execution_count": 6,
   "outputs": [],
   "source": [
    "with open(\"C:/Users/morim/PycharmProjects/GPCellTracker/config/tracker_default.yaml\") as f:\n",
    "    config = AttrDict(yaml.safe_load(f))\n",
    "motion_estimation = lambda x: x\n",
    "tracker = Tracker(CellDataSet(means, len(means)), motion_estimation, config)"
   ],
   "metadata": {
    "collapsed": false,
    "pycharm": {
     "name": "#%%\n"
    }
   }
  },
  {
   "cell_type": "code",
   "execution_count": 14,
   "outputs": [
    {
     "name": "stdout",
     "output_type": "stream",
     "text": [
      "Set parameter Username\n",
      "Academic license - for non-commercial use only - expires 2023-03-04\n",
      "Gurobi Optimizer version 9.5.1 build v9.5.1rc2 (win64)\n",
      "Thread count: 4 physical cores, 8 logical processors, using up to 8 threads\n",
      "Optimize a model with 6637 rows, 10423 columns and 452925 nonzeros\n",
      "Model fingerprint: 0xf4342807\n",
      "Coefficient statistics:\n",
      "  Matrix range     [1e+00, 1e+00]\n",
      "  Objective range  [4e-07, 1e+00]\n",
      "  Bounds range     [1e+00, 1e+00]\n",
      "  RHS range        [1e+00, 1e+00]\n",
      "\n",
      "Concurrent LP optimizer: dual simplex and barrier\n",
      "Showing barrier log only...\n",
      "\n",
      "Presolve removed 6548 rows and 9821 columns\n",
      "Presolve time: 0.89s\n",
      "Presolved: 89 rows, 602 columns, 1202 nonzeros\n",
      "\n",
      "Ordering time: 0.00s\n",
      "\n",
      "Barrier statistics:\n",
      " Dense cols : 1\n",
      " AA' NZ     : 6.010e+02\n",
      " Factor NZ  : 1.765e+03\n",
      " Factor Ops : 3.949e+04 (less than 1 second per iteration)\n",
      " Threads    : 1\n",
      "\n",
      "                  Objective                Residual\n",
      "Iter       Primal          Dual         Primal    Dual     Compl     Time\n",
      "   0   8.12665153e+01  0.00000000e+00  1.19e+01 0.00e+00  1.62e+02     1s\n",
      "   1   7.52711114e+00 -8.72992156e+00  5.33e-15 5.57e-12  1.49e+01     1s\n",
      "   2   1.51694432e+00 -3.15814479e-01  6.66e-16 4.55e-13  1.68e+00     1s\n",
      "   3   3.14299593e-01 -3.02586200e-02  8.88e-16 4.55e-13  3.16e-01     1s\n",
      "   4   9.97155627e-02  4.08391674e-02  1.42e-13 4.55e-13  5.41e-02     1s\n",
      "   5   7.82342194e-02  6.28060823e-02  2.82e-13 4.55e-13  1.42e-02     1s\n",
      "   6   7.16324915e-02  6.82586526e-02  7.46e-14 4.55e-13  3.10e-03     1s\n",
      "   7   6.95157064e-02  6.92391980e-02  1.18e-13 9.09e-13  2.54e-04     1s\n",
      "   8   6.94143193e-02  6.94059878e-02  1.12e-10 4.55e-13  7.65e-06     1s\n",
      "   9   6.94134620e-02  6.94134446e-02  2.78e-10 4.55e-13  1.60e-08     1s\n",
      "  10   6.94134473e-02  6.94134473e-02  2.13e-12 9.09e-13  1.60e-11     1s\n",
      "\n",
      "Barrier solved model in 10 iterations and 0.95 seconds (0.28 work units)\n",
      "Optimal objective 6.94134473e-02\n",
      "\n",
      "\n",
      "Solved with dual simplex\n",
      "Solved in 111 iterations and 0.96 seconds (0.30 work units)\n",
      "Optimal objective  6.941344725e-02\n",
      "Gurobi status= 2\n"
     ]
    },
    {
     "data": {
      "text/plain": "1"
     },
     "execution_count": 14,
     "metadata": {},
     "output_type": "execute_result"
    }
   ],
   "source": [
    "from tools.datasets import Tracklet\n",
    "\n",
    "tracklet_ = Tracklet(tracker.time_len)\n",
    "tracker.init_tracklet(tracklet_)\n",
    "tracker.match(tracklet_[-1], tracker.dataset[-2])"
   ],
   "metadata": {
    "collapsed": false,
    "pycharm": {
     "name": "#%%\n"
    }
   }
  },
  {
   "cell_type": "code",
   "execution_count": 13,
   "outputs": [
    {
     "data": {
      "text/plain": "array([[ 0.65968944,  0.04219168],\n       [ 0.72758428,  0.12427684],\n       [ 0.26419573,  0.10386998],\n       [ 0.84346   ,  0.75920603],\n       [ 0.76128312,  0.47755342],\n       [ 0.84644266,  0.57909194],\n       [ 0.16963766,  0.47868605],\n       [ 0.19257932,  0.57994081],\n       [ 0.41278824,  0.09109352],\n       [ 0.5078566 ,  0.26496292],\n       [ 0.64229961,  0.20540567],\n       [ 0.98598171,  0.09852215],\n       [ 0.23150644,  0.71915676],\n       [ 0.22191014,  0.83021645],\n       [ 0.50694987,  0.04818098],\n       [ 0.6514721 ,  0.37843528],\n       [ 0.75746534,  0.33198943],\n       [ 0.04571882,  0.33591872],\n       [ 0.71557304,  0.57870074],\n       [ 0.24100163, -0.05345213],\n       [ 0.08448128, -0.04326166],\n       [ 0.02040088,  0.69723737],\n       [ 0.49361181,  0.50933598],\n       [ 0.5307266 ,  0.62416335],\n       [-0.04744448,  0.04955286],\n       [-0.03032467,  0.79978046],\n       [ 0.58504501,  0.80229138],\n       [ 0.90824508,  0.6622718 ],\n       [ 0.99207834,  0.62994861],\n       [ 0.57685086,  0.08134091],\n       [ 0.54874617,  0.18447611],\n       [ 0.81434037,  0.67396967],\n       [ 0.70934818,  0.72495457],\n       [ 0.16309619,  0.28558892],\n       [ 0.19142026,  0.37653777],\n       [ 0.24133195,  0.49233015],\n       [ 0.59879708,  0.296249  ],\n       [ 0.52377395,  0.38973342],\n       [ 0.86288628,  0.40791743],\n       [ 0.94920876,  0.41305096],\n       [ 0.6711386 , -0.04927049],\n       [ 0.85069684,  0.21757416],\n       [ 0.79432345,  0.23982079],\n       [ 0.6381077 ,  0.65023216],\n       [ 0.29261137,  0.37954422]])"
     },
     "execution_count": 13,
     "metadata": {},
     "output_type": "execute_result"
    }
   ],
   "source": [],
   "metadata": {
    "collapsed": false,
    "pycharm": {
     "name": "#%%\n"
    }
   }
  }
 ],
 "metadata": {
  "kernelspec": {
   "display_name": "Python 3",
   "language": "python",
   "name": "python3"
  },
  "language_info": {
   "codemirror_mode": {
    "name": "ipython",
    "version": 2
   },
   "file_extension": ".py",
   "mimetype": "text/x-python",
   "name": "python",
   "nbconvert_exporter": "python",
   "pygments_lexer": "ipython2",
   "version": "2.7.6"
  }
 },
 "nbformat": 4,
 "nbformat_minor": 0
}